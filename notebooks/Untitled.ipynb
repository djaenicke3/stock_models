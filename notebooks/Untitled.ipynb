{
 "cells": [
  {
   "cell_type": "code",
   "execution_count": 2,
   "metadata": {},
   "outputs": [],
   "source": [
    "import pandas as pd\n",
    "import numpy as np\n",
    "import os\n",
    "import matplotlib.pyplot as plt\n",
    "import time\n",
    "\n",
    "plt.style.use(style = 'seaborn')\n",
    "%matplotlib inline\n"
   ]
  },
  {
   "cell_type": "code",
   "execution_count": 22,
   "metadata": {},
   "outputs": [],
   "source": [
    "df = pd.read_csv(r\"C:\\Users\\hp\\PycharmProjects\\stock_models\\data\\AMZN.csv\")"
   ]
  },
  {
   "cell_type": "code",
   "execution_count": 23,
   "metadata": {},
   "outputs": [
    {
     "data": {
      "text/html": [
       "<div>\n",
       "<style scoped>\n",
       "    .dataframe tbody tr th:only-of-type {\n",
       "        vertical-align: middle;\n",
       "    }\n",
       "\n",
       "    .dataframe tbody tr th {\n",
       "        vertical-align: top;\n",
       "    }\n",
       "\n",
       "    .dataframe thead th {\n",
       "        text-align: right;\n",
       "    }\n",
       "</style>\n",
       "<table border=\"1\" class=\"dataframe\">\n",
       "  <thead>\n",
       "    <tr style=\"text-align: right;\">\n",
       "      <th></th>\n",
       "      <th>Date</th>\n",
       "      <th>Open</th>\n",
       "      <th>High</th>\n",
       "      <th>Low</th>\n",
       "      <th>Close</th>\n",
       "      <th>Adj Close</th>\n",
       "      <th>Volume</th>\n",
       "    </tr>\n",
       "  </thead>\n",
       "  <tbody>\n",
       "    <tr>\n",
       "      <th>1254</th>\n",
       "      <td>2021-07-02</td>\n",
       "      <td>3451.639893</td>\n",
       "      <td>3511.719971</td>\n",
       "      <td>3436.919922</td>\n",
       "      <td>3510.979980</td>\n",
       "      <td>3510.979980</td>\n",
       "      <td>3169400</td>\n",
       "    </tr>\n",
       "    <tr>\n",
       "      <th>1255</th>\n",
       "      <td>2021-07-06</td>\n",
       "      <td>3530.110107</td>\n",
       "      <td>3685.479980</td>\n",
       "      <td>3529.000000</td>\n",
       "      <td>3675.739990</td>\n",
       "      <td>3675.739990</td>\n",
       "      <td>6744800</td>\n",
       "    </tr>\n",
       "    <tr>\n",
       "      <th>1256</th>\n",
       "      <td>2021-07-07</td>\n",
       "      <td>3717.379883</td>\n",
       "      <td>3734.199951</td>\n",
       "      <td>3678.909912</td>\n",
       "      <td>3696.580078</td>\n",
       "      <td>3696.580078</td>\n",
       "      <td>5328100</td>\n",
       "    </tr>\n",
       "    <tr>\n",
       "      <th>1257</th>\n",
       "      <td>2021-07-08</td>\n",
       "      <td>3643.560059</td>\n",
       "      <td>3759.989990</td>\n",
       "      <td>3621.120117</td>\n",
       "      <td>3731.409912</td>\n",
       "      <td>3731.409912</td>\n",
       "      <td>5180600</td>\n",
       "    </tr>\n",
       "    <tr>\n",
       "      <th>1258</th>\n",
       "      <td>2021-07-09</td>\n",
       "      <td>3722.520020</td>\n",
       "      <td>3748.000000</td>\n",
       "      <td>3693.399902</td>\n",
       "      <td>3719.340088</td>\n",
       "      <td>3719.340088</td>\n",
       "      <td>3745100</td>\n",
       "    </tr>\n",
       "  </tbody>\n",
       "</table>\n",
       "</div>"
      ],
      "text/plain": [
       "            Date         Open         High          Low        Close  \\\n",
       "1254  2021-07-02  3451.639893  3511.719971  3436.919922  3510.979980   \n",
       "1255  2021-07-06  3530.110107  3685.479980  3529.000000  3675.739990   \n",
       "1256  2021-07-07  3717.379883  3734.199951  3678.909912  3696.580078   \n",
       "1257  2021-07-08  3643.560059  3759.989990  3621.120117  3731.409912   \n",
       "1258  2021-07-09  3722.520020  3748.000000  3693.399902  3719.340088   \n",
       "\n",
       "        Adj Close   Volume  \n",
       "1254  3510.979980  3169400  \n",
       "1255  3675.739990  6744800  \n",
       "1256  3696.580078  5328100  \n",
       "1257  3731.409912  5180600  \n",
       "1258  3719.340088  3745100  "
      ]
     },
     "execution_count": 23,
     "metadata": {},
     "output_type": "execute_result"
    }
   ],
   "source": [
    "df.tail(5)"
   ]
  },
  {
   "cell_type": "code",
   "execution_count": 24,
   "metadata": {},
   "outputs": [
    {
     "name": "stdout",
     "output_type": "stream",
     "text": [
      "<class 'numpy.ndarray'>\n"
     ]
    }
   ],
   "source": [
    "ts = df.Close\n",
    "ts_log = np.log(ts)\n",
    "print(type(np.array(ts_log)))"
   ]
  },
  {
   "cell_type": "code",
   "execution_count": 25,
   "metadata": {},
   "outputs": [
    {
     "name": "stdout",
     "output_type": "stream",
     "text": [
      "Requirement already satisfied: arch in c:\\users\\hp\\anaconda3\\lib\\site-packages (4.19)\n",
      "Requirement already satisfied: numpy>=1.14 in c:\\users\\hp\\anaconda3\\lib\\site-packages (from arch) (1.19.5)\n",
      "Requirement already satisfied: property-cached>=1.6.4 in c:\\users\\hp\\anaconda3\\lib\\site-packages (from arch) (1.6.4)\n",
      "Requirement already satisfied: cython>=0.29.14 in c:\\users\\hp\\anaconda3\\lib\\site-packages (from arch) (0.29.14)\n",
      "Requirement already satisfied: pandas>=0.23 in c:\\users\\hp\\anaconda3\\lib\\site-packages (from arch) (1.1.3)\n",
      "Requirement already satisfied: statsmodels>=0.10 in c:\\users\\hp\\anaconda3\\lib\\site-packages (from arch) (0.12.2)\n",
      "Requirement already satisfied: scipy>=1.2.3 in c:\\users\\hp\\anaconda3\\lib\\site-packages (from arch) (1.6.0)\n",
      "Requirement already satisfied: python-dateutil>=2.7.3 in c:\\users\\hp\\anaconda3\\lib\\site-packages (from pandas>=0.23->arch) (2.8.1)\n",
      "Requirement already satisfied: pytz>=2017.2 in c:\\users\\hp\\anaconda3\\lib\\site-packages (from pandas>=0.23->arch) (2020.1)\n",
      "Requirement already satisfied: six>=1.5 in c:\\users\\hp\\anaconda3\\lib\\site-packages (from python-dateutil>=2.7.3->pandas>=0.23->arch) (1.15.0)\n",
      "Requirement already satisfied: patsy>=0.5 in c:\\users\\hp\\anaconda3\\lib\\site-packages (from statsmodels>=0.10->arch) (0.5.1)\n"
     ]
    },
    {
     "name": "stderr",
     "output_type": "stream",
     "text": [
      "WARNING: Ignoring invalid distribution -tatsmodels (c:\\users\\hp\\anaconda3\\lib\\site-packages)\n",
      "WARNING: Ignoring invalid distribution -tatsmodels (c:\\users\\hp\\anaconda3\\lib\\site-packages)\n",
      "WARNING: Ignoring invalid distribution -tatsmodels (c:\\users\\hp\\anaconda3\\lib\\site-packages)\n",
      "WARNING: Ignoring invalid distribution -tatsmodels (c:\\users\\hp\\anaconda3\\lib\\site-packages)\n"
     ]
    }
   ],
   "source": [
    "#!pip install arch\n"
   ]
  },
  {
   "cell_type": "code",
   "execution_count": 26,
   "metadata": {},
   "outputs": [],
   "source": [
    "# import pmdarima\n",
    "# import arch\n",
    "\n",
    "# # fit ARIMA on returns \n",
    "# arima_model_fitted = pmdarima.auto_arima(returns)\n",
    "# p, d, q = arima_model.order\n",
    "# arima_residuals = arima_model.arima_res_.resid\n",
    "\n",
    "# # fit a GARCH(1,1) model on the residuals of the ARIMA model\n",
    "# garch = arch.arch_model(arima_residuals, p=1, q=1)\n",
    "# garch_fitted = garch.fit()\n",
    "\n",
    "# # Use ARIMA to predict mu\n",
    "# predicted_mu = arima_model.predict(n_periods=1)[0]\n",
    "# # Use GARCH to predict the residual\n",
    "# garch_forecast = garch_model.forecast(horizon=1)\n",
    "# predicted_et = garch_forecast.mean['h.1'].iloc[-1]\n",
    "# # Combine both models' output: yt = mu + et\n",
    "# prediction = predicted_mu + predicted_et"
   ]
  },
  {
   "cell_type": "code",
   "execution_count": 27,
   "metadata": {},
   "outputs": [],
   "source": [
    "import pmdarima\n",
    "import arch"
   ]
  },
  {
   "cell_type": "code",
   "execution_count": 28,
   "metadata": {},
   "outputs": [],
   "source": [
    "# !pip install arch"
   ]
  },
  {
   "cell_type": "code",
   "execution_count": 29,
   "metadata": {},
   "outputs": [
    {
     "name": "stdout",
     "output_type": "stream",
     "text": [
      "Iteration:      1,   Func. Count:      6,   Neg. LLF: 1.4401843241139354e+19\n",
      "Iteration:      2,   Func. Count:     21,   Neg. LLF: 28601627.293929882\n",
      "Iteration:      3,   Func. Count:     36,   Neg. LLF: 1.1920854386774496e+16\n",
      "Iteration:      4,   Func. Count:     48,   Neg. LLF: 2457132000898838.5\n",
      "Iteration:      5,   Func. Count:     59,   Neg. LLF: 5826222579620.83\n",
      "Iteration:      6,   Func. Count:     67,   Neg. LLF: 5099636.521312141\n",
      "Iteration:      7,   Func. Count:     81,   Neg. LLF: 18310933176904.617\n",
      "Iteration:      8,   Func. Count:     90,   Neg. LLF: 1385504.0931542325\n",
      "Iteration:      9,   Func. Count:    102,   Neg. LLF: 266097087693851.47\n",
      "Iteration:     10,   Func. Count:    112,   Neg. LLF: 10804.469169160835\n",
      "Iteration:     11,   Func. Count:    119,   Neg. LLF: -2269.8109542406555\n",
      "Optimization terminated successfully    (Exit mode 0)\n",
      "            Current function value: -2269.810996852975\n",
      "            Iterations: 15\n",
      "            Function evaluations: 119\n",
      "            Gradient evaluations: 11\n",
      "822.5278185992393\n"
     ]
    },
    {
     "name": "stderr",
     "output_type": "stream",
     "text": [
      "C:\\Users\\hp\\anaconda3\\lib\\site-packages\\arch\\univariate\\base.py:316: DataScaleWarning: y is poorly scaled, which may affect convergence of the optimizer when\n",
      "estimating the model parameters. The scale of y is 0.03516. Parameter\n",
      "estimation work better when this value is between 1 and 1000. The recommended\n",
      "rescaling is 10 * y.\n",
      "\n",
      "This warning can be disabled by either rescaling y before initializing the\n",
      "model or by setting rescale=False.\n",
      "\n",
      "  warnings.warn(\n",
      "C:\\Users\\hp\\anaconda3\\lib\\site-packages\\arch\\__future__\\_utility.py:11: FutureWarning: \n",
      "The default for reindex is True. After September 2021 this will change to\n",
      "False. Set reindex to True or False to silence this message. Alternatively,\n",
      "you can use the import comment\n",
      "\n",
      "from arch.__future__ import reindexing\n",
      "\n",
      "to globally set reindex to True and silence this warning.\n",
      "\n",
      "  warnings.warn(\n"
     ]
    }
   ],
   "source": [
    "arima_model = pmdarima.auto_arima(ts_log)\n",
    "p, d, q = arima_model.order\n",
    "arima_residuals = arima_model.arima_res_.resid\n",
    "\n",
    "# fit a GARCH(1,1) model on the residuals of the ARIMA model\n",
    "garch = arch.arch_model(arima_residuals, p=1, q=1)\n",
    "garch_fitted = garch.fit()\n",
    "\n",
    "# Use ARIMA to predict mu\n",
    "predicted_mu = arima_model.predict(n_periods=1)[0]\n",
    "# Use GARCH to predict the residual\n",
    "garch_forecast = garch_fitted.forecast(horizon=1)\n",
    "predicted_et = garch_forecast.mean['h.1'].iloc[-1]\n",
    "# Combine both models' output: yt = mu + et\n",
    "prediction = predicted_mu + predicted_et\n",
    "print(prediction*100)"
   ]
  },
  {
   "cell_type": "code",
   "execution_count": 25,
   "metadata": {},
   "outputs": [
    {
     "ename": "ImportError",
     "evalue": "cannot import name 'arima_model' from 'statsmodels.tsa.arima_model' (C:\\Users\\Dr Najeed\\AppData\\Local\\Programs\\Python\\Python39\\lib\\site-packages\\statsmodels\\tsa\\arima_model.py)",
     "output_type": "error",
     "traceback": [
      "\u001b[1;31m---------------------------------------------------------------------------\u001b[0m",
      "\u001b[1;31mImportError\u001b[0m                               Traceback (most recent call last)",
      "\u001b[1;32m<ipython-input-25-3cdb338ca46c>\u001b[0m in \u001b[0;36m<module>\u001b[1;34m\u001b[0m\n\u001b[0;32m      1\u001b[0m \u001b[1;32mimport\u001b[0m \u001b[0mpmdarima\u001b[0m\u001b[1;33m\u001b[0m\u001b[1;33m\u001b[0m\u001b[0m\n\u001b[1;32m----> 2\u001b[1;33m \u001b[1;32mfrom\u001b[0m \u001b[0mstatsmodels\u001b[0m\u001b[1;33m.\u001b[0m\u001b[0mtsa\u001b[0m\u001b[1;33m.\u001b[0m\u001b[0marima_model\u001b[0m \u001b[1;32mimport\u001b[0m \u001b[0marima_model\u001b[0m\u001b[1;33m\u001b[0m\u001b[1;33m\u001b[0m\u001b[0m\n\u001b[0m\u001b[0;32m      3\u001b[0m \u001b[1;31m#automatically fit the optimal ARIMA model for given time series\u001b[0m\u001b[1;33m\u001b[0m\u001b[1;33m\u001b[0m\u001b[1;33m\u001b[0m\u001b[0m\n\u001b[0;32m      4\u001b[0m \u001b[0marima_model_fitted\u001b[0m \u001b[1;33m=\u001b[0m \u001b[0mpmdarima\u001b[0m\u001b[1;33m.\u001b[0m\u001b[0mauto_arima\u001b[0m\u001b[1;33m(\u001b[0m\u001b[0mts_log\u001b[0m\u001b[1;33m)\u001b[0m\u001b[1;33m\u001b[0m\u001b[1;33m\u001b[0m\u001b[0m\n\u001b[0;32m      5\u001b[0m \u001b[1;31m# one-step out-of sample forecast\u001b[0m\u001b[1;33m\u001b[0m\u001b[1;33m\u001b[0m\u001b[1;33m\u001b[0m\u001b[0m\n",
      "\u001b[1;31mImportError\u001b[0m: cannot import name 'arima_model' from 'statsmodels.tsa.arima_model' (C:\\Users\\Dr Najeed\\AppData\\Local\\Programs\\Python\\Python39\\lib\\site-packages\\statsmodels\\tsa\\arima_model.py)"
     ]
    }
   ],
   "source": [
    "import pmdarima\n",
    "from statsmodels.tsa.arima_model import arima_model\n",
    "#automatically fit the optimal ARIMA model for given time series\n",
    "arima_model_fitted = pmdarima.auto_arima(ts_log)\n",
    "# one-step out-of sample forecast\n",
    "forecast = arima_model.predict(n_periods=1)[0]"
   ]
  },
  {
   "cell_type": "code",
   "execution_count": 24,
   "metadata": {},
   "outputs": [
    {
     "name": "stdout",
     "output_type": "stream",
     "text": [
      "Iteration:      1,   Func. Count:      6,   Neg. LLF: 3056248374.5096383\n",
      "Iteration:      2,   Func. Count:     19,   Neg. LLF: 84892.6532099307\n",
      "Iteration:      3,   Func. Count:     25,   Neg. LLF: 544.7229371668437\n",
      "Iteration:      4,   Func. Count:     31,   Neg. LLF: 279.6835706993875\n",
      "Iteration:      5,   Func. Count:     37,   Neg. LLF: 251.5380788726838\n",
      "Iteration:      6,   Func. Count:     43,   Neg. LLF: 110.44210765170038\n",
      "Iteration:      7,   Func. Count:     49,   Neg. LLF: 3904.8534839022564\n",
      "Iteration:      8,   Func. Count:     57,   Neg. LLF: 46520.42230609897\n",
      "Iteration:      9,   Func. Count:     68,   Neg. LLF: 7980.820895922367\n",
      "Iteration:     10,   Func. Count:     77,   Neg. LLF: -27.48304386668525\n",
      "Optimization terminated successfully    (Exit mode 0)\n",
      "            Current function value: -27.483044212571315\n",
      "            Iterations: 14\n",
      "            Function evaluations: 77\n",
      "            Gradient evaluations: 10\n"
     ]
    },
    {
     "name": "stderr",
     "output_type": "stream",
     "text": [
      "C:\\Users\\Dr Najeed\\AppData\\Local\\Programs\\Python\\Python39\\lib\\site-packages\\arch\\__future__\\_utility.py:11: FutureWarning: \n",
      "The default for reindex is True. After September 2021 this will change to\n",
      "False. Set reindex to True or False to silence this message. Alternatively,\n",
      "you can use the import comment\n",
      "\n",
      "from arch.__future__ import reindexing\n",
      "\n",
      "to globally set reindex to True and silence this warning.\n",
      "\n",
      "  warnings.warn(\n"
     ]
    }
   ],
   "source": [
    "from arch import arch_model\n",
    "\n",
    "# a standard GARCH(1,1) model\n",
    "garch = arch_model(ts_log, vol='garch', p=1, o=0, q=1)\n",
    "garch_fitted = garch.fit()\n",
    "\n",
    "# one-step out-of sample forecast\n",
    "garch_forecast = garch_fitted.forecast(horizon=1)\n",
    "predicted_et = garch_forecast.mean['h.1'].iloc[-1]"
   ]
  },
  {
   "cell_type": "code",
   "execution_count": 28,
   "metadata": {},
   "outputs": [
    {
     "name": "stdout",
     "output_type": "stream",
     "text": [
      "[ 3.18679253e+00  3.10879386e-03 -6.68260097e-03 ...  1.80625585e-02\n",
      " -8.56904426e-03  1.01914727e-02]\n"
     ]
    }
   ],
   "source": [
    "import pmdarima\n",
    "import arch\n",
    "\n",
    "# fit ARIMA on returns \n",
    "arima_model_fitted = pmdarima.auto_arima(ts_log)\n",
    "print(arima_model_fitted.arima_res_.resid)"
   ]
  },
  {
   "cell_type": "code",
   "execution_count": null,
   "metadata": {},
   "outputs": [],
   "source": []
  }
 ],
 "metadata": {
  "kernelspec": {
   "display_name": "Python 3",
   "language": "python",
   "name": "python3"
  },
  "language_info": {
   "codemirror_mode": {
    "name": "ipython",
    "version": 3
   },
   "file_extension": ".py",
   "mimetype": "text/x-python",
   "name": "python",
   "nbconvert_exporter": "python",
   "pygments_lexer": "ipython3",
   "version": "3.8.5"
  }
 },
 "nbformat": 4,
 "nbformat_minor": 5
}
