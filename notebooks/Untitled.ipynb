{
 "cells": [
  {
   "cell_type": "code",
   "execution_count": 1,
   "id": "89c6b020",
   "metadata": {},
   "outputs": [],
   "source": [
    "import pandas as pd\n",
    "import numpy as np\n",
    "import os\n",
    "import matplotlib.pyplot as plt\n",
    "import time\n",
    "\n",
    "plt.style.use(style = 'seaborn')\n",
    "%matplotlib inline\n"
   ]
  },
  {
   "cell_type": "code",
   "execution_count": 3,
   "id": "523436ea",
   "metadata": {},
   "outputs": [],
   "source": [
    "df = pd.read_csv(r\"C:\\Users\\Dr Najeed\\PycharmProjects\\stock_models\\data\\AAPL.csv\")"
   ]
  },
  {
   "cell_type": "code",
   "execution_count": 4,
   "id": "e209795f",
   "metadata": {},
   "outputs": [
    {
     "data": {
      "text/html": [
       "<div>\n",
       "<style scoped>\n",
       "    .dataframe tbody tr th:only-of-type {\n",
       "        vertical-align: middle;\n",
       "    }\n",
       "\n",
       "    .dataframe tbody tr th {\n",
       "        vertical-align: top;\n",
       "    }\n",
       "\n",
       "    .dataframe thead th {\n",
       "        text-align: right;\n",
       "    }\n",
       "</style>\n",
       "<table border=\"1\" class=\"dataframe\">\n",
       "  <thead>\n",
       "    <tr style=\"text-align: right;\">\n",
       "      <th></th>\n",
       "      <th>Date</th>\n",
       "      <th>Open</th>\n",
       "      <th>High</th>\n",
       "      <th>Low</th>\n",
       "      <th>Close</th>\n",
       "      <th>Adj Close</th>\n",
       "      <th>Volume</th>\n",
       "    </tr>\n",
       "  </thead>\n",
       "  <tbody>\n",
       "    <tr>\n",
       "      <th>0</th>\n",
       "      <td>2016-07-11</td>\n",
       "      <td>24.187500</td>\n",
       "      <td>24.412500</td>\n",
       "      <td>24.182501</td>\n",
       "      <td>24.245001</td>\n",
       "      <td>22.649311</td>\n",
       "      <td>95179600</td>\n",
       "    </tr>\n",
       "    <tr>\n",
       "      <th>1</th>\n",
       "      <td>2016-07-12</td>\n",
       "      <td>24.292500</td>\n",
       "      <td>24.424999</td>\n",
       "      <td>24.280001</td>\n",
       "      <td>24.355000</td>\n",
       "      <td>22.752075</td>\n",
       "      <td>96670000</td>\n",
       "    </tr>\n",
       "    <tr>\n",
       "      <th>2</th>\n",
       "      <td>2016-07-13</td>\n",
       "      <td>24.352501</td>\n",
       "      <td>24.417500</td>\n",
       "      <td>24.209999</td>\n",
       "      <td>24.217501</td>\n",
       "      <td>22.623623</td>\n",
       "      <td>103568800</td>\n",
       "    </tr>\n",
       "    <tr>\n",
       "      <th>3</th>\n",
       "      <td>2016-07-14</td>\n",
       "      <td>24.347500</td>\n",
       "      <td>24.747499</td>\n",
       "      <td>24.330000</td>\n",
       "      <td>24.697500</td>\n",
       "      <td>23.072033</td>\n",
       "      <td>155676000</td>\n",
       "    </tr>\n",
       "    <tr>\n",
       "      <th>4</th>\n",
       "      <td>2016-07-15</td>\n",
       "      <td>24.730000</td>\n",
       "      <td>24.825001</td>\n",
       "      <td>24.625000</td>\n",
       "      <td>24.695000</td>\n",
       "      <td>23.069700</td>\n",
       "      <td>120548000</td>\n",
       "    </tr>\n",
       "  </tbody>\n",
       "</table>\n",
       "</div>"
      ],
      "text/plain": [
       "         Date       Open       High        Low      Close  Adj Close  \\\n",
       "0  2016-07-11  24.187500  24.412500  24.182501  24.245001  22.649311   \n",
       "1  2016-07-12  24.292500  24.424999  24.280001  24.355000  22.752075   \n",
       "2  2016-07-13  24.352501  24.417500  24.209999  24.217501  22.623623   \n",
       "3  2016-07-14  24.347500  24.747499  24.330000  24.697500  23.072033   \n",
       "4  2016-07-15  24.730000  24.825001  24.625000  24.695000  23.069700   \n",
       "\n",
       "      Volume  \n",
       "0   95179600  \n",
       "1   96670000  \n",
       "2  103568800  \n",
       "3  155676000  \n",
       "4  120548000  "
      ]
     },
     "execution_count": 4,
     "metadata": {},
     "output_type": "execute_result"
    }
   ],
   "source": [
    "df.head(5)"
   ]
  },
  {
   "cell_type": "code",
   "execution_count": 7,
   "id": "1e12af89",
   "metadata": {},
   "outputs": [
    {
     "name": "stdout",
     "output_type": "stream",
     "text": [
      "<class 'numpy.ndarray'>\n"
     ]
    }
   ],
   "source": [
    "ts = df.Close\n",
    "ts_log = np.log(ts)\n",
    "print(type(np.array(ts_log)))"
   ]
  },
  {
   "cell_type": "code",
   "execution_count": null,
   "id": "ea7ad66e",
   "metadata": {},
   "outputs": [],
   "source": []
  },
  {
   "cell_type": "code",
   "execution_count": 8,
   "id": "e0465d6c",
   "metadata": {},
   "outputs": [],
   "source": [
    "# import pmdarima\n",
    "# import arch\n",
    "\n",
    "# # fit ARIMA on returns \n",
    "# arima_model_fitted = pmdarima.auto_arima(returns)\n",
    "# p, d, q = arima_model.order\n",
    "# arima_residuals = arima_model.arima_res_.resid\n",
    "\n",
    "# # fit a GARCH(1,1) model on the residuals of the ARIMA model\n",
    "# garch = arch.arch_model(arima_residuals, p=1, q=1)\n",
    "# garch_fitted = garch.fit()\n",
    "\n",
    "# # Use ARIMA to predict mu\n",
    "# predicted_mu = arima_model.predict(n_periods=1)[0]\n",
    "# # Use GARCH to predict the residual\n",
    "# garch_forecast = garch_model.forecast(horizon=1)\n",
    "# predicted_et = garch_forecast.mean['h.1'].iloc[-1]\n",
    "# # Combine both models' output: yt = mu + et\n",
    "# prediction = predicted_mu + predicted_et"
   ]
  },
  {
   "cell_type": "code",
   "execution_count": 13,
   "id": "7415b41e",
   "metadata": {},
   "outputs": [],
   "source": [
    "import pmdarima\n",
    "import arch"
   ]
  },
  {
   "cell_type": "code",
   "execution_count": 14,
   "id": "1ffe6389",
   "metadata": {},
   "outputs": [],
   "source": [
    "# !pip install arch"
   ]
  },
  {
   "cell_type": "code",
   "execution_count": 33,
   "id": "52a0d254",
   "metadata": {},
   "outputs": [
    {
     "name": "stdout",
     "output_type": "stream",
     "text": [
      "Iteration:      1,   Func. Count:      6,   Neg. LLF: 57213492.62858226\n",
      "Iteration:      2,   Func. Count:     21,   Neg. LLF: 4294695614.5459013\n",
      "Iteration:      3,   Func. Count:     36,   Neg. LLF: 2983.795172425739\n",
      "Iteration:      4,   Func. Count:     41,   Neg. LLF: 2324.834765712549\n",
      "Iteration:      5,   Func. Count:     46,   Neg. LLF: 4234.12157030613\n",
      "Iteration:      6,   Func. Count:     53,   Neg. LLF: 8059189284431.072\n",
      "Iteration:      7,   Func. Count:     68,   Neg. LLF: 4658.173429885189\n",
      "Iteration:      8,   Func. Count:     73,   Neg. LLF: 4594.942448811175\n",
      "Iteration:      9,   Func. Count:     78,   Neg. LLF: 4225.01010250184\n",
      "Iteration:     10,   Func. Count:     83,   Neg. LLF: 4046.609057380051\n",
      "Iteration:     11,   Func. Count:     89,   Neg. LLF: 4710.321106648396\n",
      "Iteration:     12,   Func. Count:     98,   Neg. LLF: 103258.71157239522\n",
      "Iteration:     13,   Func. Count:    104,   Neg. LLF: 4956239622.083151\n",
      "Iteration:     14,   Func. Count:    119,   Neg. LLF: 3551.7706804228756\n",
      "Iteration:     15,   Func. Count:    125,   Neg. LLF: 73641.12843103611\n",
      "Iteration:     16,   Func. Count:    134,   Neg. LLF: 3494.1335585023276\n",
      "Iteration:     17,   Func. Count:    140,   Neg. LLF: 13509.021112521892\n",
      "Iteration:     18,   Func. Count:    151,   Neg. LLF: -743.4003701305895\n",
      "Iteration:     19,   Func. Count:    156,   Neg. LLF: -330.06169786720363\n",
      "Iteration:     20,   Func. Count:    163,   Neg. LLF: 619.4388714091956\n",
      "Iteration:     21,   Func. Count:    170,   Neg. LLF: 6756.471491483121\n",
      "Iteration:     22,   Func. Count:    176,   Neg. LLF: 483950617.0144706\n",
      "Iteration:     23,   Func. Count:    188,   Neg. LLF: -1596.498633673656\n",
      "Optimization terminated successfully    (Exit mode 0)\n",
      "            Current function value: -1596.4986438172314\n",
      "            Iterations: 27\n",
      "            Function evaluations: 188\n",
      "            Gradient evaluations: 23\n",
      "4.977544265011865\n"
     ]
    },
    {
     "name": "stderr",
     "output_type": "stream",
     "text": [
      "C:\\Users\\Dr Najeed\\AppData\\Local\\Programs\\Python\\Python39\\lib\\site-packages\\arch\\univariate\\base.py:316: DataScaleWarning: y is poorly scaled, which may affect convergence of the optimizer when\n",
      "estimating the model parameters. The scale of y is 0.008418. Parameter\n",
      "estimation work better when this value is between 1 and 1000. The recommended\n",
      "rescaling is 10 * y.\n",
      "\n",
      "This warning can be disabled by either rescaling y before initializing the\n",
      "model or by setting rescale=False.\n",
      "\n",
      "  warnings.warn(\n",
      "C:\\Users\\Dr Najeed\\AppData\\Local\\Programs\\Python\\Python39\\lib\\site-packages\\arch\\__future__\\_utility.py:11: FutureWarning: \n",
      "The default for reindex is True. After September 2021 this will change to\n",
      "False. Set reindex to True or False to silence this message. Alternatively,\n",
      "you can use the import comment\n",
      "\n",
      "from arch.__future__ import reindexing\n",
      "\n",
      "to globally set reindex to True and silence this warning.\n",
      "\n",
      "  warnings.warn(\n"
     ]
    }
   ],
   "source": [
    "arima_model = pmdarima.auto_arima(ts_log)\n",
    "p, d, q = arima_model.order\n",
    "arima_residuals = arima_model.arima_res_.resid\n",
    "\n",
    "# fit a GARCH(1,1) model on the residuals of the ARIMA model\n",
    "garch = arch.arch_model(arima_residuals, p=1, q=1)\n",
    "garch_fitted = garch.fit()\n",
    "\n",
    "# Use ARIMA to predict mu\n",
    "predicted_mu = arima_model.predict(n_periods=1)[0]\n",
    "# Use GARCH to predict the residual\n",
    "garch_forecast = garch_fitted.forecast(horizon=1)\n",
    "predicted_et = garch_forecast.mean['h.1'].iloc[-1]\n",
    "# Combine both models' output: yt = mu + et\n",
    "prediction = predicted_mu + predicted_et\n",
    "print(prediction)"
   ]
  },
  {
   "cell_type": "code",
   "execution_count": 25,
   "id": "857ff181",
   "metadata": {},
   "outputs": [
    {
     "ename": "ImportError",
     "evalue": "cannot import name 'arima_model' from 'statsmodels.tsa.arima_model' (C:\\Users\\Dr Najeed\\AppData\\Local\\Programs\\Python\\Python39\\lib\\site-packages\\statsmodels\\tsa\\arima_model.py)",
     "output_type": "error",
     "traceback": [
      "\u001b[1;31m---------------------------------------------------------------------------\u001b[0m",
      "\u001b[1;31mImportError\u001b[0m                               Traceback (most recent call last)",
      "\u001b[1;32m<ipython-input-25-3cdb338ca46c>\u001b[0m in \u001b[0;36m<module>\u001b[1;34m\u001b[0m\n\u001b[0;32m      1\u001b[0m \u001b[1;32mimport\u001b[0m \u001b[0mpmdarima\u001b[0m\u001b[1;33m\u001b[0m\u001b[1;33m\u001b[0m\u001b[0m\n\u001b[1;32m----> 2\u001b[1;33m \u001b[1;32mfrom\u001b[0m \u001b[0mstatsmodels\u001b[0m\u001b[1;33m.\u001b[0m\u001b[0mtsa\u001b[0m\u001b[1;33m.\u001b[0m\u001b[0marima_model\u001b[0m \u001b[1;32mimport\u001b[0m \u001b[0marima_model\u001b[0m\u001b[1;33m\u001b[0m\u001b[1;33m\u001b[0m\u001b[0m\n\u001b[0m\u001b[0;32m      3\u001b[0m \u001b[1;31m#automatically fit the optimal ARIMA model for given time series\u001b[0m\u001b[1;33m\u001b[0m\u001b[1;33m\u001b[0m\u001b[1;33m\u001b[0m\u001b[0m\n\u001b[0;32m      4\u001b[0m \u001b[0marima_model_fitted\u001b[0m \u001b[1;33m=\u001b[0m \u001b[0mpmdarima\u001b[0m\u001b[1;33m.\u001b[0m\u001b[0mauto_arima\u001b[0m\u001b[1;33m(\u001b[0m\u001b[0mts_log\u001b[0m\u001b[1;33m)\u001b[0m\u001b[1;33m\u001b[0m\u001b[1;33m\u001b[0m\u001b[0m\n\u001b[0;32m      5\u001b[0m \u001b[1;31m# one-step out-of sample forecast\u001b[0m\u001b[1;33m\u001b[0m\u001b[1;33m\u001b[0m\u001b[1;33m\u001b[0m\u001b[0m\n",
      "\u001b[1;31mImportError\u001b[0m: cannot import name 'arima_model' from 'statsmodels.tsa.arima_model' (C:\\Users\\Dr Najeed\\AppData\\Local\\Programs\\Python\\Python39\\lib\\site-packages\\statsmodels\\tsa\\arima_model.py)"
     ]
    }
   ],
   "source": [
    "import pmdarima\n",
    "from statsmodels.tsa.arima_model import arima_model\n",
    "#automatically fit the optimal ARIMA model for given time series\n",
    "arima_model_fitted = pmdarima.auto_arima(ts_log)\n",
    "# one-step out-of sample forecast\n",
    "forecast = arima_model.predict(n_periods=1)[0]"
   ]
  },
  {
   "cell_type": "code",
   "execution_count": 24,
   "id": "d9160ca2",
   "metadata": {},
   "outputs": [
    {
     "name": "stdout",
     "output_type": "stream",
     "text": [
      "Iteration:      1,   Func. Count:      6,   Neg. LLF: 3056248374.5096383\n",
      "Iteration:      2,   Func. Count:     19,   Neg. LLF: 84892.6532099307\n",
      "Iteration:      3,   Func. Count:     25,   Neg. LLF: 544.7229371668437\n",
      "Iteration:      4,   Func. Count:     31,   Neg. LLF: 279.6835706993875\n",
      "Iteration:      5,   Func. Count:     37,   Neg. LLF: 251.5380788726838\n",
      "Iteration:      6,   Func. Count:     43,   Neg. LLF: 110.44210765170038\n",
      "Iteration:      7,   Func. Count:     49,   Neg. LLF: 3904.8534839022564\n",
      "Iteration:      8,   Func. Count:     57,   Neg. LLF: 46520.42230609897\n",
      "Iteration:      9,   Func. Count:     68,   Neg. LLF: 7980.820895922367\n",
      "Iteration:     10,   Func. Count:     77,   Neg. LLF: -27.48304386668525\n",
      "Optimization terminated successfully    (Exit mode 0)\n",
      "            Current function value: -27.483044212571315\n",
      "            Iterations: 14\n",
      "            Function evaluations: 77\n",
      "            Gradient evaluations: 10\n"
     ]
    },
    {
     "name": "stderr",
     "output_type": "stream",
     "text": [
      "C:\\Users\\Dr Najeed\\AppData\\Local\\Programs\\Python\\Python39\\lib\\site-packages\\arch\\__future__\\_utility.py:11: FutureWarning: \n",
      "The default for reindex is True. After September 2021 this will change to\n",
      "False. Set reindex to True or False to silence this message. Alternatively,\n",
      "you can use the import comment\n",
      "\n",
      "from arch.__future__ import reindexing\n",
      "\n",
      "to globally set reindex to True and silence this warning.\n",
      "\n",
      "  warnings.warn(\n"
     ]
    }
   ],
   "source": [
    "from arch import arch_model\n",
    "\n",
    "# a standard GARCH(1,1) model\n",
    "garch = arch_model(ts_log, vol='garch', p=1, o=0, q=1)\n",
    "garch_fitted = garch.fit()\n",
    "\n",
    "# one-step out-of sample forecast\n",
    "garch_forecast = garch_fitted.forecast(horizon=1)\n",
    "predicted_et = garch_forecast.mean['h.1'].iloc[-1]"
   ]
  },
  {
   "cell_type": "code",
   "execution_count": 28,
   "id": "8eec2e27",
   "metadata": {},
   "outputs": [
    {
     "name": "stdout",
     "output_type": "stream",
     "text": [
      "[ 3.18679253e+00  3.10879386e-03 -6.68260097e-03 ...  1.80625585e-02\n",
      " -8.56904426e-03  1.01914727e-02]\n"
     ]
    }
   ],
   "source": [
    "import pmdarima\n",
    "import arch\n",
    "\n",
    "# fit ARIMA on returns \n",
    "arima_model_fitted = pmdarima.auto_arima(ts_log)\n",
    "print(arima_model_fitted.arima_res_.resid)"
   ]
  },
  {
   "cell_type": "code",
   "execution_count": null,
   "id": "27871d07",
   "metadata": {},
   "outputs": [],
   "source": []
  }
 ],
 "metadata": {
  "kernelspec": {
   "display_name": "Python 3",
   "language": "python",
   "name": "python3"
  },
  "language_info": {
   "codemirror_mode": {
    "name": "ipython",
    "version": 3
   },
   "file_extension": ".py",
   "mimetype": "text/x-python",
   "name": "python",
   "nbconvert_exporter": "python",
   "pygments_lexer": "ipython3",
   "version": "3.9.5"
  }
 },
 "nbformat": 4,
 "nbformat_minor": 5
}
