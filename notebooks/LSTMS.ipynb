{
 "cells": [
  {
   "cell_type": "markdown",
   "metadata": {},
   "source": [
    "# UNIVARIATE LSTM"
   ]
  },
  {
   "cell_type": "code",
   "execution_count": 2,
   "metadata": {},
   "outputs": [],
   "source": [
    "import pandas as pd"
   ]
  },
  {
   "cell_type": "code",
   "execution_count": 3,
   "metadata": {},
   "outputs": [],
   "source": [
    "df = pd.read_csv(r\"C:\\Users\\hp\\PycharmProjects\\stock_models\\data\\AAPL.csv\")"
   ]
  },
  {
   "cell_type": "code",
   "execution_count": 4,
   "metadata": {},
   "outputs": [],
   "source": [
    "df2 = df.reset_index()[\"Close\"]"
   ]
  },
  {
   "cell_type": "code",
   "execution_count": 5,
   "metadata": {},
   "outputs": [
    {
     "data": {
      "text/plain": [
       "1254    139.960007\n",
       "1255    142.020004\n",
       "1256    144.570007\n",
       "1257    143.240005\n",
       "1258    145.110001\n",
       "Name: Close, dtype: float64"
      ]
     },
     "execution_count": 5,
     "metadata": {},
     "output_type": "execute_result"
    }
   ],
   "source": [
    "df2.tail()"
   ]
  },
  {
   "cell_type": "code",
   "execution_count": 6,
   "metadata": {},
   "outputs": [],
   "source": [
    "import matplotlib.pyplot as plt"
   ]
  },
  {
   "cell_type": "code",
   "execution_count": 7,
   "metadata": {},
   "outputs": [
    {
     "data": {
      "text/plain": [
       "[<matplotlib.lines.Line2D at 0x243fb807cd0>]"
      ]
     },
     "execution_count": 7,
     "metadata": {},
     "output_type": "execute_result"
    },
    {
     "data": {
      "image/png": "[encoded data removed]",
      "text/plain": [
       "<Figure size 432x288 with 1 Axes>"
      ]
     },
     "metadata": {
      "needs_background": "light"
     },
     "output_type": "display_data"
    }
   ],
   "source": [
    "plt.plot(df2)"
   ]
  },
  {
   "cell_type": "code",
   "execution_count": 8,
   "metadata": {},
   "outputs": [],
   "source": [
    "import numpy as np"
   ]
  },
  {
   "cell_type": "code",
   "execution_count": 9,
   "metadata": {},
   "outputs": [],
   "source": [
    "from sklearn.preprocessing import MinMaxScaler"
   ]
  },
  {
   "cell_type": "code",
   "execution_count": 10,
   "metadata": {},
   "outputs": [],
   "source": [
    "scaler=MinMaxScaler(feature_range=(0,1))\n",
    "df2 = scaler.fit_transform(np.array(df2).reshape(-1,1))"
   ]
  },
  {
   "cell_type": "code",
   "execution_count": 11,
   "metadata": {},
   "outputs": [
    {
     "data": {
      "text/plain": [
       "array([[6.40808643e-04],\n",
       "       [1.55032349e-03],\n",
       "       [4.13427865e-04],\n",
       "       ...,\n",
       "       [9.95535118e-01],\n",
       "       [9.84538140e-01],\n",
       "       [1.00000000e+00]])"
      ]
     },
     "execution_count": 11,
     "metadata": {},
     "output_type": "execute_result"
    }
   ],
   "source": [
    "df2"
   ]
  },
  {
   "cell_type": "code",
   "execution_count": 12,
   "metadata": {},
   "outputs": [],
   "source": [
    "training_size = int(len(df2)*0.65)\n",
    "test_size = len(df2) - training_size\n",
    "train_data, test_data = df2[0:training_size,:],df2[training_size:len(df2),:1]"
   ]
  },
  {
   "cell_type": "code",
   "execution_count": 13,
   "metadata": {},
   "outputs": [
    {
     "data": {
      "text/plain": [
       "(818, 441)"
      ]
     },
     "execution_count": 13,
     "metadata": {},
     "output_type": "execute_result"
    }
   ],
   "source": [
    "training_size,test_size"
   ]
  },
  {
   "cell_type": "code",
   "execution_count": 14,
   "metadata": {},
   "outputs": [],
   "source": [
    "def create_dataset(dataset, time_step=1):\n",
    "    dataX, dataY = [], []\n",
    "    for i in range(len(dataset) - time_step -1):\n",
    "        a = dataset[i:(i+time_step), 0]\n",
    "        dataX.append(a)\n",
    "        dataY.append(dataset[i + time_step, 0])\n",
    "    return np.array(dataX), np.array(dataY)"
   ]
  },
  {
   "cell_type": "code",
   "execution_count": 15,
   "metadata": {},
   "outputs": [],
   "source": [
    "time_step =100\n",
    "X_train, y_train = create_dataset(train_data, time_step)\n",
    "X_test , y_test = create_dataset(test_data, time_step)\n",
    "\n"
   ]
  },
  {
   "cell_type": "code",
   "execution_count": 16,
   "metadata": {},
   "outputs": [
    {
     "name": "stdout",
     "output_type": "stream",
     "text": [
      "(717, 100) (340, 100) (717,) (340,)\n"
     ]
    }
   ],
   "source": [
    "print(X_train.shape, X_test.shape, y_train.shape, y_test.shape)"
   ]
  },
  {
   "cell_type": "code",
   "execution_count": 17,
   "metadata": {},
   "outputs": [],
   "source": [
    "# reshape input to be [samples, time steps, features] which is required for LSTM\n",
    "X_train =X_train.reshape(X_train.shape[0],X_train.shape[1] , 1)\n",
    "X_test = X_test.reshape(X_test.shape[0],X_test.shape[1] , 1)"
   ]
  },
  {
   "cell_type": "code",
   "execution_count": 18,
   "metadata": {},
   "outputs": [],
   "source": [
    "from tensorflow.keras.models import Sequential\n",
    "from tensorflow.keras.layers import Dense\n",
    "from tensorflow.keras.layers import LSTM"
   ]
  },
  {
   "cell_type": "code",
   "execution_count": 19,
   "metadata": {},
   "outputs": [],
   "source": [
    "model=Sequential()\n",
    "model.add(LSTM(50,return_sequences=True,input_shape=(100,1)))\n",
    "model.add(LSTM(50,return_sequences=True))\n",
    "model.add(LSTM(50))\n",
    "model.add(Dense(1))\n",
    "model.compile(loss='mean_squared_error',optimizer='adam')"
   ]
  },
  {
   "cell_type": "code",
   "execution_count": 20,
   "metadata": {},
   "outputs": [
    {
     "name": "stdout",
     "output_type": "stream",
     "text": [
      "Model: \"sequential\"\n",
      "_________________________________________________________________\n",
      "Layer (type)                 Output Shape              Param #   \n",
      "=================================================================\n",
      "lstm (LSTM)                  (None, 100, 50)           10400     \n",
      "_________________________________________________________________\n",
      "lstm_1 (LSTM)                (None, 100, 50)           20200     \n",
      "_________________________________________________________________\n",
      "lstm_2 (LSTM)                (None, 50)                20200     \n",
      "_________________________________________________________________\n",
      "dense (Dense)                (None, 1)                 51        \n",
      "=================================================================\n",
      "Total params: 50,851\n",
      "Trainable params: 50,851\n",
      "Non-trainable params: 0\n",
      "_________________________________________________________________\n"
     ]
    }
   ],
   "source": [
    "model.summary()"
   ]
  },
  {
   "cell_type": "code",
   "execution_count": 22,
   "metadata": {},
   "outputs": [
    {
     "name": "stdout",
     "output_type": "stream",
     "text": [
      "Epoch 1/100\n",
      "12/12 [==============================] - 3s 285ms/step - loss: 0.0095 - val_loss: 0.1329\n",
      "Epoch 2/100\n",
      "12/12 [==============================] - 1s 122ms/step - loss: 0.0016 - val_loss: 0.0636\n",
      "Epoch 3/100\n",
      "12/12 [==============================] - 1s 124ms/step - loss: 9.5817e-04 - val_loss: 0.0673\n",
      "Epoch 4/100\n",
      "12/12 [==============================] - 2s 125ms/step - loss: 5.4834e-04 - val_loss: 0.0162\n",
      "Epoch 5/100\n",
      "12/12 [==============================] - 1s 124ms/step - loss: 3.4395e-04 - val_loss: 0.0034\n",
      "Epoch 6/100\n",
      "12/12 [==============================] - 1s 123ms/step - loss: 3.1839e-04 - val_loss: 0.0043\n",
      "Epoch 7/100\n",
      "12/12 [==============================] - 1s 121ms/step - loss: 3.8424e-04 - val_loss: 0.0073\n",
      "Epoch 8/100\n",
      "12/12 [==============================] - 1s 122ms/step - loss: 3.2396e-04 - val_loss: 0.0066\n",
      "Epoch 9/100\n",
      "12/12 [==============================] - 1s 121ms/step - loss: 3.0083e-04 - val_loss: 0.0047\n",
      "Epoch 10/100\n",
      "12/12 [==============================] - 1s 115ms/step - loss: 2.7488e-04 - val_loss: 0.0038\n",
      "Epoch 11/100\n",
      "12/12 [==============================] - 1s 114ms/step - loss: 2.7232e-04 - val_loss: 0.0043\n",
      "Epoch 12/100\n",
      "12/12 [==============================] - 1s 116ms/step - loss: 2.5924e-04 - val_loss: 0.0051\n",
      "Epoch 13/100\n",
      "12/12 [==============================] - 1s 116ms/step - loss: 2.6267e-04 - val_loss: 0.0045\n",
      "Epoch 14/100\n",
      "12/12 [==============================] - 1s 116ms/step - loss: 2.4596e-04 - val_loss: 0.0032\n",
      "Epoch 15/100\n",
      "12/12 [==============================] - 1s 115ms/step - loss: 2.3086e-04 - val_loss: 0.0029\n",
      "Epoch 16/100\n",
      "12/12 [==============================] - 1s 114ms/step - loss: 2.2197e-04 - val_loss: 0.0033\n",
      "Epoch 17/100\n",
      "12/12 [==============================] - 1s 115ms/step - loss: 2.1277e-04 - val_loss: 0.0036\n",
      "Epoch 18/100\n",
      "12/12 [==============================] - 1s 116ms/step - loss: 2.0457e-04 - val_loss: 0.0081\n",
      "Epoch 19/100\n",
      "12/12 [==============================] - 1s 115ms/step - loss: 2.2028e-04 - val_loss: 0.0045\n",
      "Epoch 20/100\n",
      "12/12 [==============================] - 1s 115ms/step - loss: 2.0268e-04 - val_loss: 0.0081\n",
      "Epoch 21/100\n",
      "12/12 [==============================] - 1s 115ms/step - loss: 1.7912e-04 - val_loss: 0.0131\n",
      "Epoch 22/100\n",
      "12/12 [==============================] - 1s 116ms/step - loss: 1.7566e-04 - val_loss: 0.0156\n",
      "Epoch 23/100\n",
      "12/12 [==============================] - 1s 114ms/step - loss: 1.7632e-04 - val_loss: 0.0317\n",
      "Epoch 24/100\n",
      "12/12 [==============================] - 1s 115ms/step - loss: 1.6726e-04 - val_loss: 0.0214\n",
      "Epoch 25/100\n",
      "12/12 [==============================] - 1s 115ms/step - loss: 1.9195e-04 - val_loss: 0.0266\n",
      "Epoch 26/100\n",
      "12/12 [==============================] - 1s 115ms/step - loss: 1.7651e-04 - val_loss: 0.0331\n",
      "Epoch 27/100\n",
      "12/12 [==============================] - 1s 114ms/step - loss: 1.6718e-04 - val_loss: 0.0261\n",
      "Epoch 28/100\n",
      "12/12 [==============================] - 1s 114ms/step - loss: 2.1038e-04 - val_loss: 0.0316\n",
      "Epoch 29/100\n",
      "12/12 [==============================] - 1s 115ms/step - loss: 1.8882e-04 - val_loss: 0.0302\n",
      "Epoch 30/100\n",
      "12/12 [==============================] - 1s 114ms/step - loss: 1.6019e-04 - val_loss: 0.0201\n",
      "Epoch 31/100\n",
      "12/12 [==============================] - 1s 114ms/step - loss: 1.6342e-04 - val_loss: 0.0232\n",
      "Epoch 32/100\n",
      "12/12 [==============================] - 1s 115ms/step - loss: 1.6413e-04 - val_loss: 0.0397\n",
      "Epoch 33/100\n",
      "12/12 [==============================] - 1s 114ms/step - loss: 1.7306e-04 - val_loss: 0.0241\n",
      "Epoch 34/100\n",
      "12/12 [==============================] - 1s 114ms/step - loss: 1.5668e-04 - val_loss: 0.0343\n",
      "Epoch 35/100\n",
      "12/12 [==============================] - 1s 114ms/step - loss: 1.4863e-04 - val_loss: 0.0326\n",
      "Epoch 36/100\n",
      "12/12 [==============================] - 1s 114ms/step - loss: 1.5217e-04 - val_loss: 0.0311\n",
      "Epoch 37/100\n",
      "12/12 [==============================] - 1s 114ms/step - loss: 1.4932e-04 - val_loss: 0.0297\n",
      "Epoch 38/100\n",
      "12/12 [==============================] - 1s 114ms/step - loss: 1.4373e-04 - val_loss: 0.0333\n",
      "Epoch 39/100\n",
      "12/12 [==============================] - 1s 115ms/step - loss: 1.5205e-04 - val_loss: 0.0351\n",
      "Epoch 40/100\n",
      "12/12 [==============================] - 1s 116ms/step - loss: 1.6648e-04 - val_loss: 0.0337\n",
      "Epoch 41/100\n",
      "12/12 [==============================] - 1s 115ms/step - loss: 1.6460e-04 - val_loss: 0.0262\n",
      "Epoch 42/100\n",
      "12/12 [==============================] - 1s 113ms/step - loss: 1.6728e-04 - val_loss: 0.0317\n",
      "Epoch 43/100\n",
      "12/12 [==============================] - 1s 115ms/step - loss: 1.4829e-04 - val_loss: 0.0287\n",
      "Epoch 44/100\n",
      "12/12 [==============================] - 1s 114ms/step - loss: 1.3512e-04 - val_loss: 0.0287\n",
      "Epoch 45/100\n",
      "12/12 [==============================] - 1s 115ms/step - loss: 1.3401e-04 - val_loss: 0.0319\n",
      "Epoch 46/100\n",
      "12/12 [==============================] - 1s 115ms/step - loss: 1.3768e-04 - val_loss: 0.0351\n",
      "Epoch 47/100\n",
      "12/12 [==============================] - 1s 116ms/step - loss: 1.3766e-04 - val_loss: 0.0245\n",
      "Epoch 48/100\n",
      "12/12 [==============================] - 1s 117ms/step - loss: 1.4240e-04 - val_loss: 0.0253\n",
      "Epoch 49/100\n",
      "12/12 [==============================] - 1s 120ms/step - loss: 1.3319e-04 - val_loss: 0.0265\n",
      "Epoch 50/100\n",
      "12/12 [==============================] - 1s 121ms/step - loss: 1.3221e-04 - val_loss: 0.0338\n",
      "Epoch 51/100\n",
      "12/12 [==============================] - 1s 122ms/step - loss: 1.3533e-04 - val_loss: 0.0278\n",
      "Epoch 52/100\n",
      "12/12 [==============================] - 1s 118ms/step - loss: 1.3826e-04 - val_loss: 0.0234\n",
      "Epoch 53/100\n",
      "12/12 [==============================] - 1s 117ms/step - loss: 1.4340e-04 - val_loss: 0.0407\n",
      "Epoch 54/100\n",
      "12/12 [==============================] - 1s 115ms/step - loss: 1.4883e-04 - val_loss: 0.0206\n",
      "Epoch 55/100\n",
      "12/12 [==============================] - 1s 115ms/step - loss: 1.3307e-04 - val_loss: 0.0286\n",
      "Epoch 56/100\n",
      "12/12 [==============================] - 1s 115ms/step - loss: 1.2898e-04 - val_loss: 0.0240\n",
      "Epoch 57/100\n",
      "12/12 [==============================] - 1s 115ms/step - loss: 1.2260e-04 - val_loss: 0.0271\n",
      "Epoch 58/100\n",
      "12/12 [==============================] - 1s 113ms/step - loss: 1.4090e-04 - val_loss: 0.0262\n",
      "Epoch 59/100\n",
      "12/12 [==============================] - 1s 113ms/step - loss: 1.3352e-04 - val_loss: 0.0118\n",
      "Epoch 60/100\n",
      "12/12 [==============================] - 1s 114ms/step - loss: 1.5819e-04 - val_loss: 0.0265\n",
      "Epoch 61/100\n",
      "12/12 [==============================] - 1s 114ms/step - loss: 1.3565e-04 - val_loss: 0.0147\n",
      "Epoch 62/100\n",
      "12/12 [==============================] - 1s 114ms/step - loss: 1.2813e-04 - val_loss: 0.0238\n",
      "Epoch 63/100\n",
      "12/12 [==============================] - 1s 114ms/step - loss: 1.2752e-04 - val_loss: 0.0168\n",
      "Epoch 64/100\n",
      "12/12 [==============================] - 1s 114ms/step - loss: 1.1492e-04 - val_loss: 0.0201\n",
      "Epoch 65/100\n",
      "12/12 [==============================] - 1s 115ms/step - loss: 1.1614e-04 - val_loss: 0.0164\n",
      "Epoch 66/100\n",
      "12/12 [==============================] - 1s 113ms/step - loss: 1.2025e-04 - val_loss: 0.0212\n",
      "Epoch 67/100\n",
      "12/12 [==============================] - 1s 114ms/step - loss: 1.1305e-04 - val_loss: 0.0142\n",
      "Epoch 68/100\n",
      "12/12 [==============================] - 1s 114ms/step - loss: 1.2317e-04 - val_loss: 0.0257\n",
      "Epoch 69/100\n",
      "12/12 [==============================] - 1s 114ms/step - loss: 1.2173e-04 - val_loss: 0.0133\n",
      "Epoch 70/100\n",
      "12/12 [==============================] - 1s 114ms/step - loss: 1.1536e-04 - val_loss: 0.0265\n",
      "Epoch 71/100\n",
      "12/12 [==============================] - 1s 115ms/step - loss: 1.3635e-04 - val_loss: 0.0156\n",
      "Epoch 72/100\n",
      "12/12 [==============================] - 1s 114ms/step - loss: 1.4679e-04 - val_loss: 0.0208\n",
      "Epoch 73/100\n",
      "12/12 [==============================] - 1s 113ms/step - loss: 1.2060e-04 - val_loss: 0.0172\n",
      "Epoch 74/100\n",
      "12/12 [==============================] - 1s 114ms/step - loss: 1.1262e-04 - val_loss: 0.0194\n",
      "Epoch 75/100\n",
      "12/12 [==============================] - 1s 114ms/step - loss: 1.1078e-04 - val_loss: 0.0168\n",
      "Epoch 76/100\n",
      "12/12 [==============================] - 1s 114ms/step - loss: 1.0506e-04 - val_loss: 0.0173\n",
      "Epoch 77/100\n",
      "12/12 [==============================] - 1s 115ms/step - loss: 1.0621e-04 - val_loss: 0.0138\n",
      "Epoch 78/100\n"
     ]
    },
    {
     "name": "stdout",
     "output_type": "stream",
     "text": [
      "12/12 [==============================] - 1s 115ms/step - loss: 1.0393e-04 - val_loss: 0.0148\n",
      "Epoch 79/100\n",
      "12/12 [==============================] - 1s 115ms/step - loss: 1.0364e-04 - val_loss: 0.0164\n",
      "Epoch 80/100\n",
      "12/12 [==============================] - 1s 114ms/step - loss: 1.0079e-04 - val_loss: 0.0108\n",
      "Epoch 81/100\n",
      "12/12 [==============================] - 1s 114ms/step - loss: 1.2362e-04 - val_loss: 0.0188\n",
      "Epoch 82/100\n",
      "12/12 [==============================] - 1s 116ms/step - loss: 1.0482e-04 - val_loss: 0.0154\n",
      "Epoch 83/100\n",
      "12/12 [==============================] - 1s 115ms/step - loss: 9.9774e-05 - val_loss: 0.0226\n",
      "Epoch 84/100\n",
      "12/12 [==============================] - 1s 113ms/step - loss: 1.2220e-04 - val_loss: 0.0138\n",
      "Epoch 85/100\n",
      "12/12 [==============================] - 1s 113ms/step - loss: 1.1971e-04 - val_loss: 0.0242\n",
      "Epoch 86/100\n",
      "12/12 [==============================] - 1s 114ms/step - loss: 1.0602e-04 - val_loss: 0.0231\n",
      "Epoch 87/100\n",
      "12/12 [==============================] - 1s 114ms/step - loss: 1.0724e-04 - val_loss: 0.0131\n",
      "Epoch 88/100\n",
      "12/12 [==============================] - 1s 113ms/step - loss: 9.7923e-05 - val_loss: 0.0148\n",
      "Epoch 89/100\n",
      "12/12 [==============================] - 1s 114ms/step - loss: 9.2208e-05 - val_loss: 0.0205\n",
      "Epoch 90/100\n",
      "12/12 [==============================] - 1s 114ms/step - loss: 1.0314e-04 - val_loss: 0.0153\n",
      "Epoch 91/100\n",
      "12/12 [==============================] - 1s 114ms/step - loss: 1.0722e-04 - val_loss: 0.0157\n",
      "Epoch 92/100\n",
      "12/12 [==============================] - 1s 114ms/step - loss: 9.7995e-05 - val_loss: 0.0147\n",
      "Epoch 93/100\n",
      "12/12 [==============================] - 1s 114ms/step - loss: 1.0605e-04 - val_loss: 0.0086\n",
      "Epoch 94/100\n",
      "12/12 [==============================] - 1s 114ms/step - loss: 1.0184e-04 - val_loss: 0.0146\n",
      "Epoch 95/100\n",
      "12/12 [==============================] - 1s 113ms/step - loss: 9.4326e-05 - val_loss: 0.0130\n",
      "Epoch 96/100\n",
      "12/12 [==============================] - 1s 113ms/step - loss: 8.9232e-05 - val_loss: 0.0145\n",
      "Epoch 97/100\n",
      "12/12 [==============================] - 1s 114ms/step - loss: 9.1050e-05 - val_loss: 0.0090\n",
      "Epoch 98/100\n",
      "12/12 [==============================] - 1s 113ms/step - loss: 9.0095e-05 - val_loss: 0.0140\n",
      "Epoch 99/100\n",
      "12/12 [==============================] - 1s 115ms/step - loss: 8.6303e-05 - val_loss: 0.0048\n",
      "Epoch 100/100\n",
      "12/12 [==============================] - 1s 114ms/step - loss: 1.0090e-04 - val_loss: 0.0154\n"
     ]
    },
    {
     "data": {
      "text/plain": [
       "<tensorflow.python.keras.callbacks.History at 0x243a57dd2b0>"
      ]
     },
     "execution_count": 22,
     "metadata": {},
     "output_type": "execute_result"
    }
   ],
   "source": [
    "model.fit(X_train,y_train,validation_data=(X_test,y_test),epochs=100,batch_size=64,verbose=1)"
   ]
  },
  {
   "cell_type": "code",
   "execution_count": 23,
   "metadata": {},
   "outputs": [],
   "source": [
    "import tensorflow as tf"
   ]
  },
  {
   "cell_type": "code",
   "execution_count": 24,
   "metadata": {},
   "outputs": [],
   "source": [
    "train_predict=model.predict(X_train)\n",
    "test_predict=model.predict(X_test)"
   ]
  },
  {
   "cell_type": "code",
   "execution_count": 25,
   "metadata": {},
   "outputs": [],
   "source": [
    "train_predict=scaler.inverse_transform(train_predict)\n",
    "test_predict=scaler.inverse_transform(test_predict)"
   ]
  },
  {
   "cell_type": "code",
   "execution_count": 28,
   "metadata": {},
   "outputs": [
    {
     "data": {
      "text/plain": [
       "43.81915486040177"
      ]
     },
     "execution_count": 28,
     "metadata": {},
     "output_type": "execute_result"
    }
   ],
   "source": [
    "### Calculate RMSE performance metrics\n",
    "import math\n",
    "from sklearn.metrics import mean_squared_error\n",
    "math.sqrt(mean_squared_error(y_train,train_predict))"
   ]
  },
  {
   "cell_type": "code",
   "execution_count": 30,
   "metadata": {},
   "outputs": [
    {
     "data": {
      "text/plain": [
       "97.92820454611504"
      ]
     },
     "execution_count": 30,
     "metadata": {},
     "output_type": "execute_result"
    }
   ],
   "source": [
    "math.sqrt(mean_squared_error(y_test,test_predict))"
   ]
  },
  {
   "cell_type": "code",
   "execution_count": 33,
   "metadata": {},
   "outputs": [
    {
     "data": {
      "image/png": "[encoded data removed]",
      "text/plain": [
       "<Figure size 432x288 with 1 Axes>"
      ]
     },
     "metadata": {
      "needs_background": "light"
     },
     "output_type": "display_data"
    }
   ],
   "source": [
    "\n",
    "\n",
    "### Plotting \n",
    "# shift train predictions for plotting\n",
    "look_back=100\n",
    "trainPredictPlot = np.empty_like(df2)\n",
    "trainPredictPlot[:, :] = np.nan\n",
    "trainPredictPlot[look_back:len(train_predict)+look_back, :] = train_predict\n",
    "# shift test predictions for plotting\n",
    "testPredictPlot = np.empty_like(df2)\n",
    "testPredictPlot[:, :] = np.nan\n",
    "testPredictPlot[len(train_predict)+(look_back*2)+1:len(df2)-1, :] = test_predict\n",
    "# plot baseline and predictions\n",
    "plt.plot(scaler.inverse_transform(df2))\n",
    "plt.plot(trainPredictPlot)\n",
    "plt.plot(testPredictPlot)\n",
    "plt.show()\n",
    "\n"
   ]
  },
  {
   "cell_type": "code",
   "execution_count": 34,
   "metadata": {},
   "outputs": [
    {
     "data": {
      "text/plain": [
       "441"
      ]
     },
     "execution_count": 34,
     "metadata": {},
     "output_type": "execute_result"
    }
   ],
   "source": [
    "len(test_data)"
   ]
  },
  {
   "cell_type": "code",
   "execution_count": 38,
   "metadata": {},
   "outputs": [],
   "source": [
    "x_input=test_data[341:-2].reshape(1,-1)\n",
    "x_input.shape\n",
    "temp_input=list(x_input)\n",
    "temp_input=temp_input[0].tolist()"
   ]
  },
  {
   "cell_type": "code",
   "execution_count": 40,
   "metadata": {},
   "outputs": [
    {
     "name": "stdout",
     "output_type": "stream",
     "text": [
      "WARNING:tensorflow:Model was constructed with shape (None, 100, 1) for input Tensor(\"lstm_input:0\", shape=(None, 100, 1), dtype=float32), but it was called on an input with incompatible shape (None, 98, 1).\n",
      "[0.83185446]\n",
      "99\n",
      "[0.83185446]\n",
      "100\n",
      "[[0.8318544626235962], [0.8318544626235962]]\n"
     ]
    }
   ],
   "source": [
    "# demonstrate prediction for next 10 days\n",
    "from numpy import array\n",
    "\n",
    "lst_output=[]\n",
    "n_steps=98\n",
    "i=0\n",
    "while(i<2):\n",
    "    \n",
    "    if(len(temp_input)>100):\n",
    "        #print(temp_input)\n",
    "        x_input=np.array(temp_input[1:])\n",
    "        print(\"{} day input {}\".format(i,x_input))\n",
    "        x_input=x_input.reshape(1,-1)\n",
    "        x_input = x_input.reshape((1, n_steps, 1))\n",
    "        #print(x_input)\n",
    "        yhat = model.predict(x_input, verbose=0)\n",
    "        print(\"{} day output {}\".format(i,yhat))\n",
    "        temp_input.extend(yhat[0].tolist())\n",
    "        temp_input=temp_input[1:]\n",
    "        #print(temp_input)\n",
    "        lst_output.extend(yhat.tolist())\n",
    "        i=i+1\n",
    "    else:\n",
    "        x_input = x_input.reshape((1, n_steps,1))\n",
    "        yhat = model.predict(x_input, verbose=0)\n",
    "        print(yhat[0])\n",
    "        temp_input.extend(yhat[0].tolist())\n",
    "        print(len(temp_input))\n",
    "        lst_output.extend(yhat.tolist())\n",
    "        i=i+1\n",
    "    \n",
    "\n",
    "print(lst_output)"
   ]
  },
  {
   "cell_type": "code",
   "execution_count": null,
   "metadata": {},
   "outputs": [],
   "source": []
  }
 ],
 "metadata": {
  "kernelspec": {
   "display_name": "Python 3",
   "language": "python",
   "name": "python3"
  },
  "language_info": {
   "codemirror_mode": {
    "name": "ipython",
    "version": 3
   },
   "file_extension": ".py",
   "mimetype": "text/x-python",
   "name": "python",
   "nbconvert_exporter": "python",
   "pygments_lexer": "ipython3",
   "version": "3.8.5"
  }
 },
 "nbformat": 4,
 "nbformat_minor": 4
}
